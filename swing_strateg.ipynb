{
 "cells": [
  {
   "cell_type": "code",
   "execution_count": 13,
   "metadata": {},
   "outputs": [],
   "source": [
    "from strategy import Backtest\n",
    "from strategy_2 import Backtest2"
   ]
  },
  {
   "cell_type": "code",
   "execution_count": 14,
   "metadata": {},
   "outputs": [
    {
     "name": "stderr",
     "output_type": "stream",
     "text": [
      "[*********************100%***********************]  1 of 1 completed\n",
      "/Users/anoshmalik/QuantTrading/QuantSystem/strategy.py:211: FutureWarning: A value is trying to be set on a copy of a DataFrame or Series through chained assignment using an inplace method.\n",
      "The behavior will change in pandas 3.0. This inplace method will never work because the intermediate object on which we are setting values always behaves as a copy.\n",
      "\n",
      "For example, when doing 'df[col].method(value, inplace=True)', try using 'df.method({col: value}, inplace=True)' or df[col] = df[col].method(value) instead, to perform the operation inplace on the original object.\n",
      "\n",
      "\n",
      "  stock['Strategy Return'].fillna(0, inplace=True)\n",
      "[*********************100%***********************]  1 of 1 completed\n",
      "/Users/anoshmalik/QuantTrading/QuantSystem/strategy.py:320: FutureWarning: A value is trying to be set on a copy of a DataFrame or Series through chained assignment using an inplace method.\n",
      "The behavior will change in pandas 3.0. This inplace method will never work because the intermediate object on which we are setting values always behaves as a copy.\n",
      "\n",
      "For example, when doing 'df[col].method(value, inplace=True)', try using 'df.method({col: value}, inplace=True)' or df[col] = df[col].method(value) instead, to perform the operation inplace on the original object.\n",
      "\n",
      "\n",
      "  stock['Strategy Return'].fillna(0, inplace=True)\n"
     ]
    }
   ],
   "source": [
    "backtester = Backtest(\"TSLA\", \"2016-11-25\", 17,\"2024-11-25\" )\n",
    "trend_momentum_df = backtester.test_1_day_trend_momentum_strategy()\n",
    "trend_momentum_df.to_csv('1_day_TSLA_trend_momentum_strategy_backtest.csv', index = None)\n",
    "inverse_trend_momentum_df = backtester.test_1_day_inverse_trend_momentum_strategy()\n",
    "inverse_trend_momentum_df.to_csv('1_day_TSLA_inverse_trend_momentum_strategy_backtest.csv', index = None)"
   ]
  },
  {
   "cell_type": "code",
   "execution_count": 15,
   "metadata": {},
   "outputs": [
    {
     "name": "stderr",
     "output_type": "stream",
     "text": [
      "[*********************100%***********************]  1 of 1 completed\n",
      "/Users/anoshmalik/QuantTrading/QuantSystem/strategy.py:211: FutureWarning: A value is trying to be set on a copy of a DataFrame or Series through chained assignment using an inplace method.\n",
      "The behavior will change in pandas 3.0. This inplace method will never work because the intermediate object on which we are setting values always behaves as a copy.\n",
      "\n",
      "For example, when doing 'df[col].method(value, inplace=True)', try using 'df.method({col: value}, inplace=True)' or df[col] = df[col].method(value) instead, to perform the operation inplace on the original object.\n",
      "\n",
      "\n",
      "  stock['Strategy Return'].fillna(0, inplace=True)\n",
      "[*********************100%***********************]  1 of 1 completed\n",
      "/Users/anoshmalik/QuantTrading/QuantSystem/strategy.py:320: FutureWarning: A value is trying to be set on a copy of a DataFrame or Series through chained assignment using an inplace method.\n",
      "The behavior will change in pandas 3.0. This inplace method will never work because the intermediate object on which we are setting values always behaves as a copy.\n",
      "\n",
      "For example, when doing 'df[col].method(value, inplace=True)', try using 'df.method({col: value}, inplace=True)' or df[col] = df[col].method(value) instead, to perform the operation inplace on the original object.\n",
      "\n",
      "\n",
      "  stock['Strategy Return'].fillna(0, inplace=True)\n"
     ]
    }
   ],
   "source": [
    "backtester = Backtest(\"AAPL\", \"2016-11-25\", 17,\"2024-11-25\" )\n",
    "inverse_trend_momentum_df = backtester.test_1_day_trend_momentum_strategy()\n",
    "inverse_trend_momentum_df.to_csv('1_day_AAPL_trend_momentum_strategy_backtest.csv', index = None)\n",
    "inverse_trend_momentum_df = backtester.test_1_day_inverse_trend_momentum_strategy()\n",
    "inverse_trend_momentum_df.to_csv('1_day_AAPL_inverse_trend_momentum_strategy_backtest.csv', index = None)"
   ]
  },
  {
   "cell_type": "code",
   "execution_count": 16,
   "metadata": {},
   "outputs": [
    {
     "name": "stderr",
     "output_type": "stream",
     "text": [
      "[*********************100%***********************]  1 of 1 completed\n",
      "/Users/anoshmalik/QuantTrading/QuantSystem/strategy.py:211: FutureWarning: A value is trying to be set on a copy of a DataFrame or Series through chained assignment using an inplace method.\n",
      "The behavior will change in pandas 3.0. This inplace method will never work because the intermediate object on which we are setting values always behaves as a copy.\n",
      "\n",
      "For example, when doing 'df[col].method(value, inplace=True)', try using 'df.method({col: value}, inplace=True)' or df[col] = df[col].method(value) instead, to perform the operation inplace on the original object.\n",
      "\n",
      "\n",
      "  stock['Strategy Return'].fillna(0, inplace=True)\n",
      "[*********************100%***********************]  1 of 1 completed\n",
      "/Users/anoshmalik/QuantTrading/QuantSystem/strategy.py:320: FutureWarning: A value is trying to be set on a copy of a DataFrame or Series through chained assignment using an inplace method.\n",
      "The behavior will change in pandas 3.0. This inplace method will never work because the intermediate object on which we are setting values always behaves as a copy.\n",
      "\n",
      "For example, when doing 'df[col].method(value, inplace=True)', try using 'df.method({col: value}, inplace=True)' or df[col] = df[col].method(value) instead, to perform the operation inplace on the original object.\n",
      "\n",
      "\n",
      "  stock['Strategy Return'].fillna(0, inplace=True)\n"
     ]
    }
   ],
   "source": [
    "backtester = Backtest(\"SLX\", \"2016-11-25\", 17,\"2024-11-25\" )\n",
    "inverse_trend_momentum_df = backtester.test_1_day_trend_momentum_strategy()\n",
    "inverse_trend_momentum_df.to_csv('1_day_SLX_trend_momentum_strategy_backtest.csv', index = None)\n",
    "inverse_trend_momentum_df = backtester.test_1_day_inverse_trend_momentum_strategy()\n",
    "inverse_trend_momentum_df.to_csv('1_day_SLX_inverse_trend_momentum_strategy_backtest.csv', index = None)"
   ]
  },
  {
   "cell_type": "code",
   "execution_count": 17,
   "metadata": {},
   "outputs": [
    {
     "name": "stderr",
     "output_type": "stream",
     "text": [
      "[*********************100%***********************]  1 of 1 completed\n",
      "/Users/anoshmalik/QuantTrading/QuantSystem/strategy.py:211: FutureWarning: A value is trying to be set on a copy of a DataFrame or Series through chained assignment using an inplace method.\n",
      "The behavior will change in pandas 3.0. This inplace method will never work because the intermediate object on which we are setting values always behaves as a copy.\n",
      "\n",
      "For example, when doing 'df[col].method(value, inplace=True)', try using 'df.method({col: value}, inplace=True)' or df[col] = df[col].method(value) instead, to perform the operation inplace on the original object.\n",
      "\n",
      "\n",
      "  stock['Strategy Return'].fillna(0, inplace=True)\n",
      "[*********************100%***********************]  1 of 1 completed\n",
      "/Users/anoshmalik/QuantTrading/QuantSystem/strategy.py:320: FutureWarning: A value is trying to be set on a copy of a DataFrame or Series through chained assignment using an inplace method.\n",
      "The behavior will change in pandas 3.0. This inplace method will never work because the intermediate object on which we are setting values always behaves as a copy.\n",
      "\n",
      "For example, when doing 'df[col].method(value, inplace=True)', try using 'df.method({col: value}, inplace=True)' or df[col] = df[col].method(value) instead, to perform the operation inplace on the original object.\n",
      "\n",
      "\n",
      "  stock['Strategy Return'].fillna(0, inplace=True)\n"
     ]
    }
   ],
   "source": [
    "backtester = Backtest(\"GOOG\", \"2016-11-25\", 17,\"2024-11-25\" )\n",
    "inverse_trend_momentum_df = backtester.test_1_day_trend_momentum_strategy()\n",
    "inverse_trend_momentum_df.to_csv('1_day_GOOG_trend_momentum_strategy_backtest.csv', index = None)\n",
    "inverse_trend_momentum_df = backtester.test_1_day_inverse_trend_momentum_strategy()\n",
    "inverse_trend_momentum_df.to_csv('1_day_GOOG_inverse_trend_momentum_strategy_backtest.csv', index = None)"
   ]
  },
  {
   "cell_type": "code",
   "execution_count": 18,
   "metadata": {},
   "outputs": [
    {
     "name": "stderr",
     "output_type": "stream",
     "text": [
      "[*********************100%***********************]  1 of 1 completed\n",
      "/Users/anoshmalik/QuantTrading/QuantSystem/strategy_2.py:56: FutureWarning: A value is trying to be set on a copy of a DataFrame or Series through chained assignment using an inplace method.\n",
      "The behavior will change in pandas 3.0. This inplace method will never work because the intermediate object on which we are setting values always behaves as a copy.\n",
      "\n",
      "For example, when doing 'df[col].method(value, inplace=True)', try using 'df.method({col: value}, inplace=True)' or df[col] = df[col].method(value) instead, to perform the operation inplace on the original object.\n",
      "\n",
      "\n",
      "  stock['Strategy Return'].fillna(0, inplace=True)\n"
     ]
    }
   ],
   "source": [
    "backtester = Backtest2(\"TSLA\", \"2024-09-01\",\"2024-11-25\" )\n",
    "news_strategy_df = backtester.test_strategy()\n",
    "news_strategy_df.to_csv('AI_TSLA_Data', index = None)"
   ]
  }
 ],
 "metadata": {
  "kernelspec": {
   "display_name": "QTrading",
   "language": "python",
   "name": "python3"
  },
  "language_info": {
   "codemirror_mode": {
    "name": "ipython",
    "version": 3
   },
   "file_extension": ".py",
   "mimetype": "text/x-python",
   "name": "python",
   "nbconvert_exporter": "python",
   "pygments_lexer": "ipython3",
   "version": "3.13.0"
  }
 },
 "nbformat": 4,
 "nbformat_minor": 2
}
